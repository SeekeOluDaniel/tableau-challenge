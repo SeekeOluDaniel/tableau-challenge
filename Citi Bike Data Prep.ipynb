{
 "cells": [
  {
   "cell_type": "code",
   "execution_count": 1,
   "id": "c520cd3d",
   "metadata": {},
   "outputs": [],
   "source": [
    "# Set up and dependencies\n",
    "import pandas as pd"
   ]
  },
  {
   "cell_type": "code",
   "execution_count": 2,
   "id": "28a7c3d5",
   "metadata": {},
   "outputs": [],
   "source": [
    "# Load Citibike dataset CSV files\n",
    "bike_sep = pd.read_csv('202309-citibike-tripdata.csv', low_memory = False)\n",
    "bike_dec = pd.read_csv('202312-citibike-tripdata.csv', low_memory = False)"
   ]
  },
  {
   "cell_type": "code",
   "execution_count": 3,
   "id": "2e090cb0",
   "metadata": {},
   "outputs": [],
   "source": [
    "bike_data = pd.concat([bike_sep, bike_dec])"
   ]
  },
  {
   "cell_type": "code",
   "execution_count": 4,
   "id": "08481524",
   "metadata": {},
   "outputs": [
    {
     "data": {
      "text/html": [
       "<div>\n",
       "<style scoped>\n",
       "    .dataframe tbody tr th:only-of-type {\n",
       "        vertical-align: middle;\n",
       "    }\n",
       "\n",
       "    .dataframe tbody tr th {\n",
       "        vertical-align: top;\n",
       "    }\n",
       "\n",
       "    .dataframe thead th {\n",
       "        text-align: right;\n",
       "    }\n",
       "</style>\n",
       "<table border=\"1\" class=\"dataframe\">\n",
       "  <thead>\n",
       "    <tr style=\"text-align: right;\">\n",
       "      <th></th>\n",
       "      <th>ride_id</th>\n",
       "      <th>rideable_type</th>\n",
       "      <th>started_at</th>\n",
       "      <th>ended_at</th>\n",
       "      <th>start_station_name</th>\n",
       "      <th>start_station_id</th>\n",
       "      <th>end_station_name</th>\n",
       "      <th>end_station_id</th>\n",
       "      <th>start_lat</th>\n",
       "      <th>start_lng</th>\n",
       "      <th>end_lat</th>\n",
       "      <th>end_lng</th>\n",
       "      <th>member_casual</th>\n",
       "    </tr>\n",
       "  </thead>\n",
       "  <tbody>\n",
       "    <tr>\n",
       "      <th>0</th>\n",
       "      <td>B0A0F1DEFA4B72FC</td>\n",
       "      <td>electric_bike</td>\n",
       "      <td>2023-09-03 10:20:41</td>\n",
       "      <td>2023-09-03 10:24:16</td>\n",
       "      <td>E 1 St &amp; Bowery</td>\n",
       "      <td>5636.13</td>\n",
       "      <td>E 10 St &amp; 2 Ave</td>\n",
       "      <td>5746.02</td>\n",
       "      <td>40.724861</td>\n",
       "      <td>-73.992131</td>\n",
       "      <td>40.729708</td>\n",
       "      <td>-73.986598</td>\n",
       "      <td>member</td>\n",
       "    </tr>\n",
       "    <tr>\n",
       "      <th>1</th>\n",
       "      <td>2B26AB15647BF4EE</td>\n",
       "      <td>classic_bike</td>\n",
       "      <td>2023-09-27 15:44:23</td>\n",
       "      <td>2023-09-27 15:53:25</td>\n",
       "      <td>Pearl St &amp; Hanover Square</td>\n",
       "      <td>4993.02</td>\n",
       "      <td>Allen St &amp; Rivington St</td>\n",
       "      <td>5414.06</td>\n",
       "      <td>40.704650</td>\n",
       "      <td>-74.009133</td>\n",
       "      <td>40.720196</td>\n",
       "      <td>-73.989978</td>\n",
       "      <td>member</td>\n",
       "    </tr>\n",
       "    <tr>\n",
       "      <th>2</th>\n",
       "      <td>9D2B5971CA4E513F</td>\n",
       "      <td>classic_bike</td>\n",
       "      <td>2023-09-19 13:40:48</td>\n",
       "      <td>2023-09-19 13:48:11</td>\n",
       "      <td>E 1 St &amp; Bowery</td>\n",
       "      <td>5636.13</td>\n",
       "      <td>E 10 St &amp; 2 Ave</td>\n",
       "      <td>5746.02</td>\n",
       "      <td>40.724753</td>\n",
       "      <td>-73.992116</td>\n",
       "      <td>40.729708</td>\n",
       "      <td>-73.986598</td>\n",
       "      <td>member</td>\n",
       "    </tr>\n",
       "    <tr>\n",
       "      <th>3</th>\n",
       "      <td>17E6760596DC3ABE</td>\n",
       "      <td>classic_bike</td>\n",
       "      <td>2023-09-30 16:27:50</td>\n",
       "      <td>2023-09-30 16:56:35</td>\n",
       "      <td>Central Ave &amp; Himrod St</td>\n",
       "      <td>4713.01</td>\n",
       "      <td>Mott St &amp; Prince St</td>\n",
       "      <td>5561.04</td>\n",
       "      <td>40.696706</td>\n",
       "      <td>-73.922935</td>\n",
       "      <td>40.723180</td>\n",
       "      <td>-73.994800</td>\n",
       "      <td>member</td>\n",
       "    </tr>\n",
       "    <tr>\n",
       "      <th>4</th>\n",
       "      <td>97EFF376A7E2DC70</td>\n",
       "      <td>classic_bike</td>\n",
       "      <td>2023-09-21 16:59:53</td>\n",
       "      <td>2023-09-21 17:07:36</td>\n",
       "      <td>St Marks Pl &amp; 2 Ave</td>\n",
       "      <td>5669.10</td>\n",
       "      <td>Mott St &amp; Prince St</td>\n",
       "      <td>5561.04</td>\n",
       "      <td>40.728419</td>\n",
       "      <td>-73.987140</td>\n",
       "      <td>40.723180</td>\n",
       "      <td>-73.994800</td>\n",
       "      <td>member</td>\n",
       "    </tr>\n",
       "  </tbody>\n",
       "</table>\n",
       "</div>"
      ],
      "text/plain": [
       "            ride_id  rideable_type           started_at             ended_at  \\\n",
       "0  B0A0F1DEFA4B72FC  electric_bike  2023-09-03 10:20:41  2023-09-03 10:24:16   \n",
       "1  2B26AB15647BF4EE   classic_bike  2023-09-27 15:44:23  2023-09-27 15:53:25   \n",
       "2  9D2B5971CA4E513F   classic_bike  2023-09-19 13:40:48  2023-09-19 13:48:11   \n",
       "3  17E6760596DC3ABE   classic_bike  2023-09-30 16:27:50  2023-09-30 16:56:35   \n",
       "4  97EFF376A7E2DC70   classic_bike  2023-09-21 16:59:53  2023-09-21 17:07:36   \n",
       "\n",
       "          start_station_name start_station_id         end_station_name  \\\n",
       "0            E 1 St & Bowery          5636.13          E 10 St & 2 Ave   \n",
       "1  Pearl St & Hanover Square          4993.02  Allen St & Rivington St   \n",
       "2            E 1 St & Bowery          5636.13          E 10 St & 2 Ave   \n",
       "3    Central Ave & Himrod St          4713.01      Mott St & Prince St   \n",
       "4        St Marks Pl & 2 Ave          5669.10      Mott St & Prince St   \n",
       "\n",
       "  end_station_id  start_lat  start_lng    end_lat    end_lng member_casual  \n",
       "0        5746.02  40.724861 -73.992131  40.729708 -73.986598        member  \n",
       "1        5414.06  40.704650 -74.009133  40.720196 -73.989978        member  \n",
       "2        5746.02  40.724753 -73.992116  40.729708 -73.986598        member  \n",
       "3        5561.04  40.696706 -73.922935  40.723180 -73.994800        member  \n",
       "4        5561.04  40.728419 -73.987140  40.723180 -73.994800        member  "
      ]
     },
     "execution_count": 4,
     "metadata": {},
     "output_type": "execute_result"
    }
   ],
   "source": [
    "bike_data.head()"
   ]
  },
  {
   "cell_type": "code",
   "execution_count": 5,
   "id": "e48bca74",
   "metadata": {},
   "outputs": [
    {
     "data": {
      "text/plain": [
       "ride_id               5848827\n",
       "rideable_type         5848827\n",
       "started_at            5848827\n",
       "ended_at              5848827\n",
       "start_station_name    5844673\n",
       "start_station_id      5844673\n",
       "end_station_name      5828760\n",
       "end_station_id        5828760\n",
       "start_lat             5848827\n",
       "start_lng             5848827\n",
       "end_lat               5844110\n",
       "end_lng               5844110\n",
       "member_casual         5848827\n",
       "dtype: int64"
      ]
     },
     "execution_count": 5,
     "metadata": {},
     "output_type": "execute_result"
    }
   ],
   "source": [
    "bike_data.count()"
   ]
  },
  {
   "cell_type": "code",
   "execution_count": 6,
   "id": "566ecfd2",
   "metadata": {},
   "outputs": [],
   "source": [
    "bike_data = bike_data.dropna(how=\"any\")"
   ]
  },
  {
   "cell_type": "code",
   "execution_count": 7,
   "id": "17f206bb",
   "metadata": {},
   "outputs": [
    {
     "data": {
      "text/plain": [
       "ride_id               5826739\n",
       "rideable_type         5826739\n",
       "started_at            5826739\n",
       "ended_at              5826739\n",
       "start_station_name    5826739\n",
       "start_station_id      5826739\n",
       "end_station_name      5826739\n",
       "end_station_id        5826739\n",
       "start_lat             5826739\n",
       "start_lng             5826739\n",
       "end_lat               5826739\n",
       "end_lng               5826739\n",
       "member_casual         5826739\n",
       "dtype: int64"
      ]
     },
     "execution_count": 7,
     "metadata": {},
     "output_type": "execute_result"
    }
   ],
   "source": [
    "bike_data.count()"
   ]
  },
  {
   "cell_type": "code",
   "execution_count": 8,
   "id": "3b89812d",
   "metadata": {},
   "outputs": [
    {
     "data": {
      "text/plain": [
       "ride_id                object\n",
       "rideable_type          object\n",
       "started_at             object\n",
       "ended_at               object\n",
       "start_station_name     object\n",
       "start_station_id       object\n",
       "end_station_name       object\n",
       "end_station_id         object\n",
       "start_lat             float64\n",
       "start_lng             float64\n",
       "end_lat               float64\n",
       "end_lng               float64\n",
       "member_casual          object\n",
       "dtype: object"
      ]
     },
     "execution_count": 8,
     "metadata": {},
     "output_type": "execute_result"
    }
   ],
   "source": [
    "bike_data.dtypes"
   ]
  },
  {
   "cell_type": "code",
   "execution_count": 9,
   "id": "33d87cd4",
   "metadata": {},
   "outputs": [],
   "source": [
    "# Convert 'started_at' and 'ended_at' columns to datetime format\n",
    "bike_data[\"started_at\"] = pd.to_datetime(bike_data[\"started_at\"])\n",
    "bike_data[\"ended_at\"] = pd.to_datetime(bike_data[\"ended_at\"])"
   ]
  },
  {
   "cell_type": "code",
   "execution_count": 10,
   "id": "5931db43",
   "metadata": {},
   "outputs": [],
   "source": [
    "# Calculate trip duration in minutes and create a new column\n",
    "bike_data[\"trip_duration\"] = (bike_data[\"ended_at\"] - bike_data[\"started_at\"]).dt.total_seconds() / 60"
   ]
  },
  {
   "cell_type": "code",
   "execution_count": 11,
   "id": "29b80feb",
   "metadata": {},
   "outputs": [
    {
     "data": {
      "text/plain": [
       "ride_id                       object\n",
       "rideable_type                 object\n",
       "started_at            datetime64[ns]\n",
       "ended_at              datetime64[ns]\n",
       "start_station_name            object\n",
       "start_station_id              object\n",
       "end_station_name              object\n",
       "end_station_id                object\n",
       "start_lat                    float64\n",
       "start_lng                    float64\n",
       "end_lat                      float64\n",
       "end_lng                      float64\n",
       "member_casual                 object\n",
       "trip_duration                float64\n",
       "dtype: object"
      ]
     },
     "execution_count": 11,
     "metadata": {},
     "output_type": "execute_result"
    }
   ],
   "source": [
    "bike_data.dtypes"
   ]
  },
  {
   "cell_type": "code",
   "execution_count": 12,
   "id": "3bd229f0",
   "metadata": {},
   "outputs": [],
   "source": [
    "# Filter short rides based on trip_duration less than 2 minutes\n",
    "short_ride = bike_data[bike_data[\"trip_duration\"] < 2]\n",
    "\n",
    "# Drop short rides from the DataFrame\n",
    "bike_data.drop(short_ride.index, inplace=True)"
   ]
  },
  {
   "cell_type": "code",
   "execution_count": 13,
   "id": "8560a8e1",
   "metadata": {},
   "outputs": [
    {
     "data": {
      "text/plain": [
       "(5196626, 14)"
      ]
     },
     "execution_count": 13,
     "metadata": {},
     "output_type": "execute_result"
    }
   ],
   "source": [
    "bike_data.shape"
   ]
  },
  {
   "cell_type": "code",
   "execution_count": 16,
   "id": "108d0517",
   "metadata": {},
   "outputs": [],
   "source": [
    "# Rename columns\n",
    "bike_data = bike_data.rename(columns={\"ride_id\": \"Ride ID\", \"rideable_type\": \"Bike Type\", \"started_at\": \"Start Time\",\n",
    "                                      \"ended_at\": \"End Time\", \"trip_duration\": \"Trip Duration (minutes)\",\n",
    "                                      \"start_station_name\": \"Start station Name\", \"start_station_id\": \"Start Station ID\",\n",
    "                                      \"end_station_name\": \"End Station Name\", \"end_station_id\": \"End Station ID\",\n",
    "                                      \"start_lat\": \"Start Latitude\", \"start_lng\": \"Start Longitude\",\n",
    "                                      \"end_lat\": \"End Latitude\", \"end_lng\": \"End Longitude\", \"member_casual\": \"Rider Type\"})"
   ]
  },
  {
   "cell_type": "code",
   "execution_count": 17,
   "id": "b621b075",
   "metadata": {},
   "outputs": [
    {
     "data": {
      "text/html": [
       "<div>\n",
       "<style scoped>\n",
       "    .dataframe tbody tr th:only-of-type {\n",
       "        vertical-align: middle;\n",
       "    }\n",
       "\n",
       "    .dataframe tbody tr th {\n",
       "        vertical-align: top;\n",
       "    }\n",
       "\n",
       "    .dataframe thead th {\n",
       "        text-align: right;\n",
       "    }\n",
       "</style>\n",
       "<table border=\"1\" class=\"dataframe\">\n",
       "  <thead>\n",
       "    <tr style=\"text-align: right;\">\n",
       "      <th></th>\n",
       "      <th>Ride ID</th>\n",
       "      <th>Bike Type</th>\n",
       "      <th>Start Time</th>\n",
       "      <th>End Time</th>\n",
       "      <th>Start station Name</th>\n",
       "      <th>Start Station ID</th>\n",
       "      <th>End Station Name</th>\n",
       "      <th>End Station ID</th>\n",
       "      <th>Start Latitude</th>\n",
       "      <th>Start Longitude</th>\n",
       "      <th>End Latitude</th>\n",
       "      <th>End Longitude</th>\n",
       "      <th>Rider Type</th>\n",
       "      <th>Trip Duration (minutes)</th>\n",
       "    </tr>\n",
       "  </thead>\n",
       "  <tbody>\n",
       "    <tr>\n",
       "      <th>0</th>\n",
       "      <td>B0A0F1DEFA4B72FC</td>\n",
       "      <td>electric_bike</td>\n",
       "      <td>2023-09-03 10:20:41</td>\n",
       "      <td>2023-09-03 10:24:16</td>\n",
       "      <td>E 1 St &amp; Bowery</td>\n",
       "      <td>5636.13</td>\n",
       "      <td>E 10 St &amp; 2 Ave</td>\n",
       "      <td>5746.02</td>\n",
       "      <td>40.724861</td>\n",
       "      <td>-73.992131</td>\n",
       "      <td>40.729708</td>\n",
       "      <td>-73.986598</td>\n",
       "      <td>member</td>\n",
       "      <td>3.583333</td>\n",
       "    </tr>\n",
       "    <tr>\n",
       "      <th>1</th>\n",
       "      <td>2B26AB15647BF4EE</td>\n",
       "      <td>classic_bike</td>\n",
       "      <td>2023-09-27 15:44:23</td>\n",
       "      <td>2023-09-27 15:53:25</td>\n",
       "      <td>Pearl St &amp; Hanover Square</td>\n",
       "      <td>4993.02</td>\n",
       "      <td>Allen St &amp; Rivington St</td>\n",
       "      <td>5414.06</td>\n",
       "      <td>40.704650</td>\n",
       "      <td>-74.009133</td>\n",
       "      <td>40.720196</td>\n",
       "      <td>-73.989978</td>\n",
       "      <td>member</td>\n",
       "      <td>9.033333</td>\n",
       "    </tr>\n",
       "  </tbody>\n",
       "</table>\n",
       "</div>"
      ],
      "text/plain": [
       "            Ride ID      Bike Type          Start Time            End Time  \\\n",
       "0  B0A0F1DEFA4B72FC  electric_bike 2023-09-03 10:20:41 2023-09-03 10:24:16   \n",
       "1  2B26AB15647BF4EE   classic_bike 2023-09-27 15:44:23 2023-09-27 15:53:25   \n",
       "\n",
       "          Start station Name Start Station ID         End Station Name  \\\n",
       "0            E 1 St & Bowery          5636.13          E 10 St & 2 Ave   \n",
       "1  Pearl St & Hanover Square          4993.02  Allen St & Rivington St   \n",
       "\n",
       "  End Station ID  Start Latitude  Start Longitude  End Latitude  \\\n",
       "0        5746.02       40.724861       -73.992131     40.729708   \n",
       "1        5414.06       40.704650       -74.009133     40.720196   \n",
       "\n",
       "   End Longitude Rider Type  Trip Duration (minutes)  \n",
       "0     -73.986598     member                 3.583333  \n",
       "1     -73.989978     member                 9.033333  "
      ]
     },
     "execution_count": 17,
     "metadata": {},
     "output_type": "execute_result"
    }
   ],
   "source": [
    "bike_data.head(2)"
   ]
  },
  {
   "cell_type": "code",
   "execution_count": 18,
   "id": "312c6126",
   "metadata": {},
   "outputs": [],
   "source": [
    "# Round trip_duration column to the nearest whole numbers\n",
    "bike_data[\"Trip Duration (minutes)\"] = bike_data[\"Trip Duration (minutes)\"].round().astype(int)"
   ]
  },
  {
   "cell_type": "code",
   "execution_count": 19,
   "id": "39e823cf",
   "metadata": {},
   "outputs": [
    {
     "data": {
      "text/html": [
       "<div>\n",
       "<style scoped>\n",
       "    .dataframe tbody tr th:only-of-type {\n",
       "        vertical-align: middle;\n",
       "    }\n",
       "\n",
       "    .dataframe tbody tr th {\n",
       "        vertical-align: top;\n",
       "    }\n",
       "\n",
       "    .dataframe thead th {\n",
       "        text-align: right;\n",
       "    }\n",
       "</style>\n",
       "<table border=\"1\" class=\"dataframe\">\n",
       "  <thead>\n",
       "    <tr style=\"text-align: right;\">\n",
       "      <th></th>\n",
       "      <th>Ride ID</th>\n",
       "      <th>Bike Type</th>\n",
       "      <th>Start Time</th>\n",
       "      <th>End Time</th>\n",
       "      <th>Start station Name</th>\n",
       "      <th>Start Station ID</th>\n",
       "      <th>End Station Name</th>\n",
       "      <th>End Station ID</th>\n",
       "      <th>Start Latitude</th>\n",
       "      <th>Start Longitude</th>\n",
       "      <th>End Latitude</th>\n",
       "      <th>End Longitude</th>\n",
       "      <th>Rider Type</th>\n",
       "      <th>Trip Duration (minutes)</th>\n",
       "    </tr>\n",
       "  </thead>\n",
       "  <tbody>\n",
       "    <tr>\n",
       "      <th>0</th>\n",
       "      <td>B0A0F1DEFA4B72FC</td>\n",
       "      <td>electric_bike</td>\n",
       "      <td>2023-09-03 10:20:41</td>\n",
       "      <td>2023-09-03 10:24:16</td>\n",
       "      <td>E 1 St &amp; Bowery</td>\n",
       "      <td>5636.13</td>\n",
       "      <td>E 10 St &amp; 2 Ave</td>\n",
       "      <td>5746.02</td>\n",
       "      <td>40.724861</td>\n",
       "      <td>-73.992131</td>\n",
       "      <td>40.729708</td>\n",
       "      <td>-73.986598</td>\n",
       "      <td>member</td>\n",
       "      <td>4</td>\n",
       "    </tr>\n",
       "    <tr>\n",
       "      <th>1</th>\n",
       "      <td>2B26AB15647BF4EE</td>\n",
       "      <td>classic_bike</td>\n",
       "      <td>2023-09-27 15:44:23</td>\n",
       "      <td>2023-09-27 15:53:25</td>\n",
       "      <td>Pearl St &amp; Hanover Square</td>\n",
       "      <td>4993.02</td>\n",
       "      <td>Allen St &amp; Rivington St</td>\n",
       "      <td>5414.06</td>\n",
       "      <td>40.704650</td>\n",
       "      <td>-74.009133</td>\n",
       "      <td>40.720196</td>\n",
       "      <td>-73.989978</td>\n",
       "      <td>member</td>\n",
       "      <td>9</td>\n",
       "    </tr>\n",
       "  </tbody>\n",
       "</table>\n",
       "</div>"
      ],
      "text/plain": [
       "            Ride ID      Bike Type          Start Time            End Time  \\\n",
       "0  B0A0F1DEFA4B72FC  electric_bike 2023-09-03 10:20:41 2023-09-03 10:24:16   \n",
       "1  2B26AB15647BF4EE   classic_bike 2023-09-27 15:44:23 2023-09-27 15:53:25   \n",
       "\n",
       "          Start station Name Start Station ID         End Station Name  \\\n",
       "0            E 1 St & Bowery          5636.13          E 10 St & 2 Ave   \n",
       "1  Pearl St & Hanover Square          4993.02  Allen St & Rivington St   \n",
       "\n",
       "  End Station ID  Start Latitude  Start Longitude  End Latitude  \\\n",
       "0        5746.02       40.724861       -73.992131     40.729708   \n",
       "1        5414.06       40.704650       -74.009133     40.720196   \n",
       "\n",
       "   End Longitude Rider Type  Trip Duration (minutes)  \n",
       "0     -73.986598     member                        4  \n",
       "1     -73.989978     member                        9  "
      ]
     },
     "execution_count": 19,
     "metadata": {},
     "output_type": "execute_result"
    }
   ],
   "source": [
    "bike_data.head(2)"
   ]
  },
  {
   "cell_type": "code",
   "execution_count": 20,
   "id": "fa05de92",
   "metadata": {},
   "outputs": [],
   "source": [
    "# Save the DataFrame to a new CSV file\n",
    "bike_data.to_csv('Citibike-Sep-Dec-2023.csv', index=False)"
   ]
  },
  {
   "cell_type": "code",
   "execution_count": null,
   "id": "799a6d3a",
   "metadata": {},
   "outputs": [],
   "source": []
  }
 ],
 "metadata": {
  "kernelspec": {
   "display_name": "Python 3 (ipykernel)",
   "language": "python",
   "name": "python3"
  },
  "language_info": {
   "codemirror_mode": {
    "name": "ipython",
    "version": 3
   },
   "file_extension": ".py",
   "mimetype": "text/x-python",
   "name": "python",
   "nbconvert_exporter": "python",
   "pygments_lexer": "ipython3",
   "version": "3.11.4"
  }
 },
 "nbformat": 4,
 "nbformat_minor": 5
}
